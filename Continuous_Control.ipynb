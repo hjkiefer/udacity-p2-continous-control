{
 "cells": [
  {
   "cell_type": "markdown",
   "metadata": {},
   "source": [
    "# Continuous Control\n",
    "\n",
    "---\n",
    "\n",
    "You are welcome to use this coding environment to train your agent for the project.  Follow the instructions below to get started!\n",
    "\n",
    "### 1. Start the Environment\n",
    "\n",
    "Run the next code cell to install a few packages.  This line will take a few minutes to run!"
   ]
  },
  {
   "cell_type": "code",
   "execution_count": 1,
   "metadata": {},
   "outputs": [
    {
     "name": "stdout",
     "output_type": "stream",
     "text": [
      "\u001b[31mtensorflow 1.7.1 has requirement numpy>=1.13.3, but you'll have numpy 1.12.1 which is incompatible.\u001b[0m\r\n",
      "\u001b[31mipython 6.5.0 has requirement prompt-toolkit<2.0.0,>=1.0.15, but you'll have prompt-toolkit 3.0.22 which is incompatible.\u001b[0m\r\n"
     ]
    }
   ],
   "source": [
    "!pip -q install ./python"
   ]
  },
  {
   "cell_type": "markdown",
   "metadata": {},
   "source": [
    "The environments corresponding to both versions of the environment are already saved in the Workspace and can be accessed at the file paths provided below.  \n",
    "\n",
    "Please select one of the two options below for loading the environment."
   ]
  },
  {
   "cell_type": "code",
   "execution_count": 2,
   "metadata": {},
   "outputs": [
    {
     "name": "stderr",
     "output_type": "stream",
     "text": [
      "INFO:unityagents:\n",
      "'Academy' started successfully!\n",
      "Unity Academy name: Academy\n",
      "        Number of Brains: 1\n",
      "        Number of External Brains : 1\n",
      "        Lesson number : 0\n",
      "        Reset Parameters :\n",
      "\t\tgoal_speed -> 1.0\n",
      "\t\tgoal_size -> 5.0\n",
      "Unity brain name: ReacherBrain\n",
      "        Number of Visual Observations (per agent): 0\n",
      "        Vector Observation space type: continuous\n",
      "        Vector Observation space size (per agent): 33\n",
      "        Number of stacked Vector Observation: 1\n",
      "        Vector Action space type: continuous\n",
      "        Vector Action space size (per agent): 4\n",
      "        Vector Action descriptions: , , , \n"
     ]
    }
   ],
   "source": [
    "from unityagents import UnityEnvironment\n",
    "import numpy as np\n",
    "\n",
    "# select this option to load version 1 (with a single agent) of the environment\n",
    "#env = UnityEnvironment(file_name='/data/Reacher_One_Linux_NoVis/Reacher_One_Linux_NoVis.x86_64')\n",
    "\n",
    "# select this option to load version 2 (with 20 agents) of the environment\n",
    "env = UnityEnvironment(file_name='/data/Reacher_Linux_NoVis/Reacher.x86_64')"
   ]
  },
  {
   "cell_type": "markdown",
   "metadata": {},
   "source": [
    "Environments contain **_brains_** which are responsible for deciding the actions of their associated agents. Here we check for the first brain available, and set it as the default brain we will be controlling from Python."
   ]
  },
  {
   "cell_type": "code",
   "execution_count": 3,
   "metadata": {},
   "outputs": [],
   "source": [
    "# get the default brain\n",
    "brain_name = env.brain_names[0]\n",
    "brain = env.brains[brain_name]"
   ]
  },
  {
   "cell_type": "markdown",
   "metadata": {},
   "source": [
    "### 2. Examine the State and Action Spaces\n",
    "\n",
    "Run the code cell below to print some information about the environment."
   ]
  },
  {
   "cell_type": "code",
   "execution_count": 4,
   "metadata": {},
   "outputs": [
    {
     "name": "stdout",
     "output_type": "stream",
     "text": [
      "Number of agents: 20\n",
      "Size of each action: 4\n",
      "There are 20 agents. Each observes a state with length: 33\n",
      "The state for the first agent looks like: [  0.00000000e+00  -4.00000000e+00   0.00000000e+00   1.00000000e+00\n",
      "  -0.00000000e+00  -0.00000000e+00  -4.37113883e-08   0.00000000e+00\n",
      "   0.00000000e+00   0.00000000e+00   0.00000000e+00   0.00000000e+00\n",
      "   0.00000000e+00   0.00000000e+00  -1.00000000e+01   0.00000000e+00\n",
      "   1.00000000e+00  -0.00000000e+00  -0.00000000e+00  -4.37113883e-08\n",
      "   0.00000000e+00   0.00000000e+00   0.00000000e+00   0.00000000e+00\n",
      "   0.00000000e+00   0.00000000e+00   5.75471878e+00  -1.00000000e+00\n",
      "   5.55726624e+00   0.00000000e+00   1.00000000e+00   0.00000000e+00\n",
      "  -1.68164849e-01]\n"
     ]
    }
   ],
   "source": [
    "# reset the environment\n",
    "env_info = env.reset(train_mode=True)[brain_name]\n",
    "\n",
    "# number of agents\n",
    "num_agents = len(env_info.agents)\n",
    "print('Number of agents:', num_agents)\n",
    "\n",
    "# size of each action\n",
    "action_size = brain.vector_action_space_size\n",
    "print('Size of each action:', action_size)\n",
    "\n",
    "# examine the state space \n",
    "states = env_info.vector_observations\n",
    "state_size = states.shape[1]\n",
    "print('There are {} agents. Each observes a state with length: {}'.format(states.shape[0], state_size))\n",
    "print('The state for the first agent looks like:', states[0])"
   ]
  },
  {
   "cell_type": "markdown",
   "metadata": {},
   "source": [
    "### 3. Take Random Actions in the Environment\n",
    "\n",
    "In the next code cell, you will learn how to use the Python API to control the agent and receive feedback from the environment.\n",
    "\n",
    "Note that **in this coding environment, you will not be able to watch the agents while they are training**, and you should set `train_mode=True` to restart the environment."
   ]
  },
  {
   "cell_type": "code",
   "execution_count": 5,
   "metadata": {},
   "outputs": [
    {
     "name": "stdout",
     "output_type": "stream",
     "text": [
      "Total score (averaged over agents) this episode: 0.13599999696016313\n",
      "Max reward: 0.03999999910593033\n"
     ]
    }
   ],
   "source": [
    "env_info = env.reset(train_mode=True)[brain_name]      # reset the environment    \n",
    "states = env_info.vector_observations                  # get the current state (for each agent)\n",
    "scores = np.zeros(num_agents)                          # initialize the score (for each agent)\n",
    "rewards = []\n",
    "while True:\n",
    "    actions = np.random.randn(num_agents, action_size) # select an action (for each agent)\n",
    "    actions = np.clip(actions, -1, 1)                  # all actions between -1 and 1\n",
    "    env_info = env.step(actions)[brain_name]           # send all actions to tne environment\n",
    "    next_states = env_info.vector_observations         # get next state (for each agent)\n",
    "    rewards.append(env_info.rewards)                   # get reward (for each agent)\n",
    "    dones = env_info.local_done                        # see if episode finished\n",
    "    scores += env_info.rewards                         # update the score (for each agent)\n",
    "    states = next_states                               # roll over states to next time step\n",
    "    if np.any(dones):                                  # exit loop if episode finished\n",
    "        break\n",
    "print('Total score (averaged over agents) this episode: {}'.format(np.mean(scores)))\n",
    "print(f\"Max reward: {max([max(n) for n in rewards])}\")"
   ]
  },
  {
   "cell_type": "code",
   "execution_count": 6,
   "metadata": {},
   "outputs": [],
   "source": [
    "def rescale_fn(x, out_fcn, env_min, env_max):\n",
    "    nn_min = out_fcn(torch.Tensor([float(\"-inf\")]).to(device))\n",
    "    nn_max = out_fcn(torch.Tensor([float(\"inf\")]).to(device))\n",
    "    env_min = torch.Tensor([env_min]).to(device)\n",
    "    env_max = torch.Tensor([env_max]).to(device)\n",
    "    rescaled_x = env_min + (x - nn_min) * (env_max - env_min) / (nn_max - nn_min)\n",
    "    return rescaled_x"
   ]
  },
  {
   "cell_type": "markdown",
   "metadata": {},
   "source": [
    "When finished, you can close the environment."
   ]
  },
  {
   "cell_type": "code",
   "execution_count": 7,
   "metadata": {},
   "outputs": [],
   "source": [
    "#env.close()"
   ]
  },
  {
   "cell_type": "markdown",
   "metadata": {},
   "source": [
    "### 4. It's Your Turn!\n",
    "\n",
    "Now it's your turn to train your own agent to solve the environment!  A few **important notes**:\n",
    "- When training the environment, set `train_mode=True`, so that the line for resetting the environment looks like the following:\n",
    "```python\n",
    "env_info = env.reset(train_mode=True)[brain_name]\n",
    "```\n",
    "- To structure your work, you're welcome to work directly in this Jupyter notebook, or you might like to start over with a new file!  You can see the list of files in the workspace by clicking on **_Jupyter_** in the top left corner of the notebook.\n",
    "- In this coding environment, you will not be able to watch the agents while they are training.  However, **_after training the agents_**, you can download the saved model weights to watch the agents on your own machine! "
   ]
  },
  {
   "cell_type": "code",
   "execution_count": 8,
   "metadata": {},
   "outputs": [],
   "source": [
    "import numpy as np\n",
    "from collections import deque\n",
    "import matplotlib.pyplot as plt\n",
    "%matplotlib inline\n",
    "import torch\n",
    "import torch.nn.functional as F\n",
    "\n",
    "from importlib import reload\n",
    "import action_selectors, replay_buffer, status_printer, networks, agents\n",
    "reload(action_selectors)\n",
    "reload(replay_buffer)\n",
    "reload(status_printer)\n",
    "reload(networks)\n",
    "reload(agents)\n",
    "\n",
    "# Modules built in this project\n",
    "from replay_buffer import ReplayBuffer\n",
    "from action_selectors import NoisyActionSelector\n",
    "from networks import Actor, Critic, Actor_resnet, Critic_resnet, Actor_batchn, Critic_batchn\n",
    "from status_printer import StatusPrinter\n",
    "from agents import ddpg_agent"
   ]
  },
  {
   "cell_type": "code",
   "execution_count": 9,
   "metadata": {},
   "outputs": [],
   "source": [
    "device = torch.device(\"cuda:0\" if torch.cuda.is_available() else \"cpu\")\n",
    "config = {\n",
    "    \"replay_buffer\": ReplayBuffer(action_size=action_size, buffer_size=int(2e5), batch_size=64, device=device),\n",
    "    \"actor_network_function\": lambda: Actor_resnet(\n",
    "                 state_size=state_size,\n",
    "                 output_size=action_size,\n",
    "                 seed=1234,\n",
    "                 hidden_layer_neurons=[256,128],\n",
    "                 activation_function=F.relu,\n",
    "                 out_activation_function=F.tanh),\n",
    "    \"critic_network_function\": lambda: Critic_resnet(\n",
    "                 state_size=state_size,\n",
    "                 action_size=action_size,\n",
    "                 output_size=1,\n",
    "                 seed=1234,\n",
    "                 hidden_layer_neurons=[256,256,128],\n",
    "                 activation_function=F.leaky_relu,\n",
    "                 out_activation_function=F.relu,\n",
    "                 output_rescaling_function=None),\n",
    "    \"action_selector\": NoisyActionSelector(decay_rate=0.8,\n",
    "                                           init_noise_scale=0.5,\n",
    "                                           auto_update_scale=False,\n",
    "                                           device=device,\n",
    "                                           minimum_noise=0.1),\n",
    "    \"learning_rate_actor\": 1e-4,\n",
    "    \"learning_rate_critic\": 1e-3,    \n",
    "    \"gamma_discount_factor\": 0.99,\n",
    "    \"tau_soft_update\": 1e-3,            # soft update parameter\n",
    "    \"network_optimize_every_n_step\": 16,  # how often to update the networks,\n",
    "    \"learn_iterations\": 16,\n",
    "    \"device\": device,\n",
    "    \"environment_solved_score\": 30.0\n",
    "}"
   ]
  },
  {
   "cell_type": "code",
   "execution_count": 10,
   "metadata": {},
   "outputs": [],
   "source": [
    "agent = ddpg_agent(config)"
   ]
  },
  {
   "cell_type": "code",
   "execution_count": 11,
   "metadata": {},
   "outputs": [
    {
     "name": "stdout",
     "output_type": "stream",
     "text": [
      "Episode 100  Avg: 19.95  Cur: 36.592  Max: 37.78  Min: 0.04  P25: 4.88  P75: 35.11  Med: 21.26  std: 14.146  <t>: 18.7\n",
      "Episode 130  Avg: 30.02  Cur: 38.129  Max: 38.13  Min: 8.15  P25: 23.29  P75: 36.37  Med: 34.87  std: 8.818   t : 18.7Environment solved in 30 episodes!\tAverage Score: 30.02\n"
     ]
    }
   ],
   "source": [
    "from datetime import datetime\n",
    "def continous_control(n_episodes=400, score_windows_len=100):\n",
    "    scores_window = deque(maxlen=score_windows_len)\n",
    "    scores = []\n",
    "    statusprinter = StatusPrinter(score_windows_len)\n",
    "    for i_episode in range(1, n_episodes+1):\n",
    "        saved_log_probs = []\n",
    "        env_info = env.reset(train_mode=True)[brain_name]\n",
    "        states = env_info.vector_observations \n",
    "        #print(states)\n",
    "        scores_episode = np.zeros(num_agents)                          # initialize the score (for each agent)\n",
    "        while True:\n",
    "            actions = agent.act(states) # select an action (for each agent)\n",
    "            actions = actions.clamp(-1, 1)                  # all actions between -1 and 1\n",
    "            #print(actions)\n",
    "            env_info = env.step(actions.cpu().numpy())[brain_name]           # send all actions to tne environment\n",
    "            next_states = env_info.vector_observations        # get next state (for each agent)\n",
    "            dones = np.array(env_info.local_done)                    # see if episode finished\n",
    "            rewards = np.array(env_info.rewards)                     # update the score (for each agent)\n",
    "            agent.step(states, actions, rewards, next_states, dones)\n",
    "            states = next_states                      # roll over states to next time step\n",
    "            scores_episode += rewards\n",
    "            if np.any(dones):                                  # exit loop if episode finished\n",
    "                break\n",
    "        s = np.mean(scores_episode)\n",
    "        scores_window.append(s)\n",
    "        scores.append(s)\n",
    "        \n",
    "        agent.action_selector.step_next_episode()\n",
    "        \n",
    "        #status_printer(scores_window, score_windows_len, i_episode)\n",
    "        statusprinter.print_status(scores_window, i_episode)\n",
    "        if np.mean(scores_window)>=30.0:\n",
    "            print('Environment solved in {:d} episodes!\\tAverage Score: {:.2f}'.format(i_episode-100, np.mean(scores_window)))\n",
    "            t = datetime.now().isoformat()\n",
    "            torch.save(agent.critic_local.state_dict(), f'critic_checkpoint_{t}.pth')\n",
    "            torch.save(agent.actor_local.state_dict(), f'actor_checkpoint_{t}.pth')\n",
    "            break\n",
    "        \n",
    "    return scores\n",
    "   \n",
    "scores = continous_control()"
   ]
  },
  {
   "cell_type": "code",
   "execution_count": 12,
   "metadata": {},
   "outputs": [
    {
     "name": "stderr",
     "output_type": "stream",
     "text": [
      "/opt/conda/lib/python3.6/site-packages/matplotlib/figure.py:418: UserWarning: matplotlib is currently using a non-GUI backend, so cannot show the figure\n",
      "  \"matplotlib is currently using a non-GUI backend, \"\n"
     ]
    },
    {
     "data": {
      "image/png": "[encoded data removed]",
      "text/plain": [
       "<matplotlib.figure.Figure at 0x7f718b636438>"
      ]
     },
     "metadata": {
      "needs_background": "light"
     },
     "output_type": "display_data"
    }
   ],
   "source": [
    "import matplotlib.pyplot as plt\n",
    "score_window_len=100\n",
    "#environment_solved_score = agent.config[\"environment_solved_score\"]\n",
    "environment_solved_score = 30.\n",
    "# compute rolling average with a discrete convolution of ones (to make a sum)\n",
    "# prepended with a list of 0s to account for initial episodes\n",
    "rolling_average = np.convolve(\n",
    "    np.ones(score_window_len),\n",
    "    np.append(np.zeros(score_window_len-1),np.array(scores)), \n",
    "    'vvalid')/score_window_len\n",
    "\n",
    "# plot the scores\n",
    "np.zeros(100)\n",
    "xs = np.arange(len(scores))\n",
    "fig = plt.figure(figsize=[12,8])\n",
    "ax = fig.add_subplot(111)\n",
    "h1 = ax.plot(xs, scores, '.-')\n",
    "h2 = ax.plot(xs, rolling_average)\n",
    "h3 = ax.plot(xs, environment_solved_score*np.ones(len(scores)), ':')\n",
    "ax.set_ylabel('Score')\n",
    "ax.set_xlabel('Episode #')\n",
    "ax.legend([\"scores\", \"rolling average\", \"target score\"])\n",
    "fig.show()\n",
    "fig.savefig(\"scores.png\", dpi=400)"
   ]
  }
 ],
 "metadata": {
  "kernelspec": {
   "display_name": "Python 3",
   "language": "python",
   "name": "python3"
  },
  "language_info": {
   "codemirror_mode": {
    "name": "ipython",
    "version": 3
   },
   "file_extension": ".py",
   "mimetype": "text/x-python",
   "name": "python",
   "nbconvert_exporter": "python",
   "pygments_lexer": "ipython3",
   "version": "3.6.3"
  }
 },
 "nbformat": 4,
 "nbformat_minor": 2
}
